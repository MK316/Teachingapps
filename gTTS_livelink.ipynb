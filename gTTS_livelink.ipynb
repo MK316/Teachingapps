{
  "nbformat": 4,
  "nbformat_minor": 0,
  "metadata": {
    "colab": {
      "provenance": [],
      "authorship_tag": "ABX9TyOLbps1lB34x7Jre+zqwBnB",
      "include_colab_link": true
    },
    "kernelspec": {
      "name": "python3",
      "display_name": "Python 3"
    },
    "language_info": {
      "name": "python"
    }
  },
  "cells": [
    {
      "cell_type": "markdown",
      "metadata": {
        "id": "view-in-github",
        "colab_type": "text"
      },
      "source": [
        "<a href=\"https://colab.research.google.com/github/MK316/Teachingapps/blob/main/gTTS_livelink.ipynb\" target=\"_parent\"><img src=\"https://colab.research.google.com/assets/colab-badge.svg\" alt=\"Open In Colab\"/></a>"
      ]
    },
    {
      "cell_type": "markdown",
      "source": [
        "# 🍀 Text-to-speech app: more interactive\n",
        "\n",
        "1. Adding continue button (yes or no)\n",
        "2.  Live app link using {Gradio}: [gradio webpage](http://gradio.co/)"
      ],
      "metadata": {
        "id": "fcCEPQCEKmFg"
      }
    },
    {
      "cell_type": "markdown",
      "source": [
        "- Gradio is a Python library that allows developers to quickly create user-friendly web interfaces for their machine learning models or other Python functions. With Gradio, you can easily turn your code into an interactive web app, enabling others to test your model or function without needing to write any code themselves.\n",
        "\n",
        "- Gradio is particularly useful for demonstrating the capabilities of your models or functions, sharing them with collaborators, or getting feedback from users. It simplifies the process of creating an interface by providing pre-built input and output components, such as text boxes, images, audio players, and more. These components can be easily customized to fit your specific needs."
      ],
      "metadata": {
        "id": "MGLScepwLN1F"
      }
    },
    {
      "cell_type": "markdown",
      "source": [
        "## 🚩 Setting-ups: installation and import libraries"
      ],
      "metadata": {
        "id": "3W13K76FLXHy"
      }
    },
    {
      "cell_type": "code",
      "source": [
        "!pip install gtts\n",
        "!pip install IPython\n",
        "!pip install gradio"
      ],
      "metadata": {
        "id": "S1V5bFWXATcO"
      },
      "execution_count": null,
      "outputs": []
    },
    {
      "cell_type": "code",
      "source": [
        "from gtts import gTTS\n",
        "from IPython.display import Audio, display\n",
        "from ipywidgets import widgets\n",
        "import os\n",
        "import gradio as gr"
      ],
      "metadata": {
        "id": "z7HDNpXKLn6h"
      },
      "execution_count": null,
      "outputs": []
    },
    {
      "cell_type": "markdown",
      "source": [
        "# [1] Continue buttons"
      ],
      "metadata": {
        "id": "yoGwNIbMLZvw"
      }
    },
    {
      "cell_type": "code",
      "source": [
        "#@markdown Text-to-Speech with continue buttons (yes or no)\n",
        "\n",
        "def create_and_play_audio(text):\n",
        "    truncated_text = text[:13] if len(text) > 13 else text\n",
        "    filename = f\"{truncated_text}.mp3\"\n",
        "    tts = gTTS(text, lang='en')\n",
        "    tts.save(filename)\n",
        "    return Audio(filename, autoplay=True)\n",
        "\n",
        "def on_button_click(button):\n",
        "    if button.description == \"Yes\":\n",
        "        main()\n",
        "    else:\n",
        "        print(\"Well done!\")\n",
        "        for btn in buttons:\n",
        "            btn.close()\n",
        "\n",
        "def create_buttons():\n",
        "    button_yes = widgets.Button(description=\"Yes\")\n",
        "    button_no = widgets.Button(description=\"No\")\n",
        "    button_yes.on_click(on_button_click)\n",
        "    button_no.on_click(on_button_click)\n",
        "\n",
        "    return [button_yes, button_no]\n",
        "\n",
        "def main():\n",
        "    print(\"Enter the text to convert to speech:\")\n",
        "    text_input = widgets.Text()\n",
        "    display(text_input)\n",
        "\n",
        "    def on_text_submit(sender):\n",
        "        user_text = text_input.value\n",
        "        if user_text:\n",
        "            text_input.value = \"\"\n",
        "            text_input.disabled = True\n",
        "            audio = create_and_play_audio(user_text)\n",
        "            display(audio)\n",
        "\n",
        "            print(\"Do you want to continue?\")\n",
        "            global buttons\n",
        "            buttons = create_buttons()\n",
        "            display(widgets.HBox(buttons))\n",
        "\n",
        "    text_input.on_submit(on_text_submit)\n",
        "\n",
        "if __name__ == \"__main__\":\n",
        "    main()\n"
      ],
      "metadata": {
        "cellView": "form",
        "id": "zKJmecxSGiKB"
      },
      "execution_count": null,
      "outputs": []
    },
    {
      "cell_type": "markdown",
      "source": [
        "# [2] Create a live link of the app using {Gradio}"
      ],
      "metadata": {
        "id": "MJJACZnqJInE"
      }
    },
    {
      "cell_type": "code",
      "source": [
        "#@markdown Online text-to-speech\n",
        "\n",
        "def create_and_play_audio(text):\n",
        "    filename = f\"{text[:10]}.mp3\" if len(text) > 10 else f\"{text}.mp3\"\n",
        "    tts = gTTS(text, lang='en')\n",
        "    tts.save(filename)\n",
        "    return filename\n",
        "\n",
        "def tts_app(text):\n",
        "    audio_file = create_and_play_audio(text)\n",
        "    return audio_file\n",
        "\n",
        "iface = gr.Interface(\n",
        "    fn=tts_app,\n",
        "    inputs=gr.inputs.Textbox(lines=3, label=\"Enter text to convert to speech\"),\n",
        "    outputs=gr.outputs.Audio(type=\"filepath\", label=\"Generated speech\"),\n",
        "    title=\"My Text-to-Speech App\",\n",
        "    description=\"A simple Text-to-Speech app using gTTS. This link is for my class, and it expires in 72 hours.\",\n",
        ")\n",
        "\n",
        "iface.launch(share=True)\n"
      ],
      "metadata": {
        "cellView": "form",
        "id": "ZrXSbvdBH6YW"
      },
      "execution_count": null,
      "outputs": []
    }
  ]
}