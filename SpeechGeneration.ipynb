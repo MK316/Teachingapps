{
  "nbformat": 4,
  "nbformat_minor": 0,
  "metadata": {
    "colab": {
      "provenance": [],
      "authorship_tag": "ABX9TyOPF2tuhveVJQrKlFTQykC3",
      "include_colab_link": true
    },
    "kernelspec": {
      "name": "python3",
      "display_name": "Python 3"
    },
    "language_info": {
      "name": "python"
    }
  },
  "cells": [
    {
      "cell_type": "markdown",
      "metadata": {
        "id": "view-in-github",
        "colab_type": "text"
      },
      "source": [
        "<a href=\"https://colab.research.google.com/github/MK316/Teachingapps/blob/main/SpeechGeneration.ipynb\" target=\"_parent\"><img src=\"https://colab.research.google.com/assets/colab-badge.svg\" alt=\"Open In Colab\"/></a>"
      ]
    },
    {
      "cell_type": "markdown",
      "source": [
        "# 💦 1. Speech Generation: English or Korean"
      ],
      "metadata": {
        "id": "580SZQBSbas3"
      }
    },
    {
      "cell_type": "code",
      "execution_count": 1,
      "metadata": {
        "id": "_IEZdYT8TWpG"
      },
      "outputs": [],
      "source": [
        "#@markdown 🚩 install {gTTS} packages and import:\n",
        "%%capture\n",
        "\n",
        "!pip install gTTS\n",
        "from gtts import gTTS\n",
        "from IPython.display import Audio\n",
        "import pandas as pd\n",
        "from google.colab import files\n",
        "     \n",
        "#@markdown Defining **etts(text)** and **ktts(text)**\n",
        "def etts(text):\n",
        "  text_to_say = text\n",
        "\n",
        "  gtts_object = gTTS(text = text_to_say, lang = \"en\", tld=\"us\", slow = False)\n",
        "  gtts_object.save(\"E-audio.wav\")\n",
        "  return Audio(\"E-audio.wav\")\n",
        "\n",
        "\n",
        "def ktts(text):\n",
        "  text_to_say = text\n",
        "\n",
        "  gtts_object = gTTS(text = text_to_say, lang = \"ko\", slow = False)\n",
        "  \n",
        "  gtts_object.save(\"K-audio.wav\")\n",
        "  return Audio(\"K-audio.wav\")"
      ]
    },
    {
      "cell_type": "markdown",
      "source": [
        "📗 [1] English speech\n",
        "\n",
        "**Note:** Any punctuation (comma, period) are mostly for written language, not usually for speech. If you use a comman, it'll makes a short pause, which may sound unnatural in some cases. So, consider not using a comma unless you really need a pause between clauses."
      ],
      "metadata": {
        "id": "PY2N6SqBUhyJ"
      }
    },
    {
      "cell_type": "code",
      "source": [
        "#@markdown Type or past your text in the pop-up box\n",
        "mytext = input(\"Type or past your text here.\")\n",
        "print(\"=\"*50)\n",
        "print(\"Text: %s\"%mytext)\n",
        "print(\"=\"*50)\n",
        "etts(mytext)"
      ],
      "metadata": {
        "colab": {
          "base_uri": "https://localhost:8080/",
          "height": 149
        },
        "cellView": "form",
        "id": "ok031Yl8UWVE",
        "outputId": "9b127d4e-03c1-4a7b-e19e-e902d6e4daa5"
      },
      "execution_count": 2,
      "outputs": [
        {
          "output_type": "stream",
          "name": "stdout",
          "text": [
            "Type or past your text here.Good luck, everyone!\n",
            "==================================================\n",
            "Text: Good luck, everyone!\n",
            "==================================================\n"
          ]
        },
        {
          "output_type": "execute_result",
          "data": {
            "text/plain": [
              "<IPython.lib.display.Audio object>"
            ],
            "text/html": [
              "\n",
              "                <audio  controls=\"controls\" >\n",
              "                    <source src=\"data:audio/x-wav;base64,//NExAAAAANIAUAAAP8FB11kbJGL/ceTRfX/G5e/WHBDnuP/aPcTG/z8UI6fv+yi9P7/maxxP/1dv1I4ckExYT///+eh7Eu5iL//53b/b5KnMRmco4MVfYSiuMkgkTC7//NExFMSUyJEAZooAScLZSU6lnLGzrTj3MjZZeJQvqNCYaCNDSCFDkHaOcc5KJs8FQDsHgWEueGIFzEsJ9TWrKaKU8mmdJrN/TatSD0mWpTf6Bcmj0kzM66Sz6CBPWX///NExFwfIxqUAY9oAf9NVN3SZLQOsfZdd0U0/+hb2s1DpHi+ytJSndE2oHSURc7UxGxEERNQ3aa65AGNtEN0ebWT8yqZf8xDlLvDma13WEjH0QxwECCygWB4awUvSWtn//NExDIVGQqgAdpgACKmXo5253dELHA6RA1GjUPEA23ETjLBEJhKZHK///0o+b0Kpcd2IsHtkRk9O0h7SpyiMzWrr4kMgqV2wODcx+6o9A+sc2jOJRU9MVBCwGCSl9lz//NExDAcce6gANYWmClcvtdygvef/QZ735QQZ+6TBUPY77cPY7KfUoMrh/XvZXakMZahSOs3hM0m/ljL3sr4VNGHM48+r///UOo1GFkFps9/8lMgKciK0rYTATwwo/dv//NExBEWMZa0ANYQlHBSr53DlZmXMN8wdKKf/0biUmUeQnEJS+cLufSS+x+ySErZb+4HouSEgdi41VMj+eP/mZq/5TvgTn2bCuysuIgKOd////11psP/OUEQtJmbwyEQ//NExAsUuYa0ANPKlFBbhln/KSEOhp12ogyxr2qW1V79cIlnq3OaaBfIRTHa4ERUMNeilRtREp0jAMOO6iIg3VHqqdTLZDCwnEoSbazyzkb///9H1//eqooyEMRizQtk//NExAsUSTqwAM5ecDt4DyKLDdV6Vn2+48tVc+5ZVJ/n2s1KDWI5fRNTcZIkF6rYGvmDFrv/G9Zza1s/4taFj2xGDc6+p0rJg2dMI+HVf///o/WqnKLuCwxiuoEJhhWr//NExAwTSTKQANZecDwMFmYdnoK0JltZ/26NdoqbOrjz//LvavPZ83M0+W4+RDTJi2tZ8+nx8eDF1jP+v8Wz/a2GJmsHcqMPVndtYaVLVbEhrVXgNJmC8LyXIYEKlvKW//NExBEQ8IqAAN4GTEN0/E4at2fr0o9CUDG4M4sgRGA+AC4jNCcQCcWIB84HqJT0//KUvpT/0f9zPKYPv6+2TW7y2vEEnx2fAwHlHSKhkYBVmi5kMm6208zYC8nVdDgy//NExCASaI6IANxMTBxB0NLIkBo4ETxA5EkeBzAusfcui/GrTUwwGd+a/3oVf/rTuSQUXVe4wpDRZwU7JpvyhTA3GTjNZ4pTh2/9yTX+c3JJeoIG+cWAAIYsrAs8wPCa//NExCkRaJKMANZSTA81LBzlnGWWFmsQcs3ZNQnvqSB2V////6EW6+hFj/1W7AA2OkNR4EUzTGMNRTvzIHCT3TEy99nlR9HJluWw0GNCYJPxDx3IJ3oFgbBASxcBPqJl//NExDYSEIqIAN7eTHu/PGzNl8LNQi7/7er///RselWGLsaYCZybh0Kt5bipTkPgBET6zFSsTyCYewMBbmAfgO0yRFoBGEyWRJsnk7qRQ1N1+y9/9//tMgJ+uzSr6V9P//NExEARuVKIANxElK67P//ov9avbrQSDO0f5eyBSs63TqAdyQQ2ncA4HhCN5GvG+PUMB1ZMG/BJ251YKViXvfHzT/4Zv8jf//XYpwM5MMfz8E7D/0QCkS+VSEgxkTYX//NExEwPsVagAMvElKzsGIhGebL7VAjMAUpB011hIKA7kLiaRpZCWQ5ciURcSc+5T6/99wwur1RUbr2f9mRTzHGnODDQYg5imaxFVlQThwYowihlL/u6akeNULCBkEpi//NExGAV0bKsAM4KlAU6ibSMmeiMRfiOWZSXOXpKIpEnWb5yJa7Spm6wuxXoJTWpLFmz3D/22zUqq///rSeMQ9pViVbRS8dBrV/M/v/qvf/4qHDyKLLJ4QYdNCQ2o66I//NExFsSMVa8AI4ElaVPvwi9aiWkXeRlQ3o3pZSoCo8ppFIZcFtXFZfF8ss71Pnex4yZFbELjwv/5+Vt8gaQQMpaavx121SD73/z39oqbrH4G427yiKRoQhIM4mqVRUL//NExGUUkUq4AMYGldTIZU9bkON4H8EHfvXtjdOiLNCjrpHIQ8pvUGgfkVM/tI/ztMswHSiWZiuDrLfK0PDbFff5f2t17z/1XIJ0g8uduv4DRh5yahqUsZKoQ1OweGVa//NExGUSWL64AIZeTUoNMBJT1vGzrGYLRRWmw1S9Qr33vMuzXP/9bovZc0TF7rMFjUwOCUuiSg8T3VJe90HlRbsOA/es01+rFWSoDyr/r//+/Rigxc8M87r7ARUoOz+S//NExG4YodqkAM6OmMQUwKkKQN6ltzyxB3o82XS2ewZ3L56lxz0+7JatSV4S2Ppc0us959AFugwDGXi4KivGixBtVYPB419H+7+qP6hQGEIOaUArqemHfi7v///eWXZk//NExF4W8aakAM4KlN3N2RHQ9+FnSndRSoyqBUo3OWqWolUrE7M5PXJdAMWu0ty11Fh6DY2IMBE4lxT2xxe6pp1xba3X21I2J//1Pg0+deo6oRZl3IcUoMPgSzV040d2//NExFURQR6QAMYWcOisWHYla3z5S/t61dsU2fjUv/VRUFSMhAKOrCoywPmltFExSkFWKov7NXaImhosVGAK7/1f/+pM10iLtEqd4IV8DUzeWN/ep2WcVpMbhaBhEetJ//NExGMRwLZMAVlIAI3PhOBZjLHC6uaFMvjsMwn4lYJ2EuF825dUiikwXsEcDcAoA5CT/sgtFS3GAIpamSZ8l7dtlLWpMxUzG6RLuxfMDRWv6DddTo+uYJiYGr1uozdP//NExG8ggyZkAZhoAHf2/pVqo2u3y/L5vNzA0QLjD0ZUfnTxp52PFBk4VjR09OMofsuwULGziVakOaUU9tbTpkWCF5w3hwP3/RqScfmKUvvlMKSuTrCM+fJVz5VUFhYv//NExEAhAt6UAYxgAL2l9Da+qn2rnt+dn/pk5To2qexlnaJNmfmz3wX2Lp6lNmaosYvMXzDffvOZ3/3fWb/Snf+zfZnpmctOZzuQUc/hVgsYBaDnwUCE4qsSTfJIcw4v//NExA8VSqJsAYdoAckUE0v+SRIjCln/mgKcBfCfBehdq/8SYTI3LyY7SS//yWTSckSSKRwSX//8ZJJGQ9i+OIpMtE4Y////mpkipNIxNVH0DGGqIiGGyyrNkMcRO7Ah//NExAwUwTIMAYwwAHCJZc85MocVvY7KNeF83znRv7GrR8/+XOCkmNNYuK719/ejjmChNjRautKXMYtRvpvQsGmBhrkuDzlL1qSqYSld8kKMne/rInrBsKB96mrAs8Si//NExAwViyIsAZOAANwtmUPwuQOMcz/JErDgGQ/8yIIHSJE5/+LIIqOMaQ7RH//+JzNSDjjpl///9JA8kThIGxON///+kgt0E09N2/////1poXWnTWmb1ZVfyWMRvueT//NExAgUcUa8AY94ACGQgxO39xbECOEWGn7Oq45XtW6f0ea1SJu3+9ZvEgR9vvi8VOvHkT002U1mJRSQnz2Vtv9X/8twcKgYDDiEu+gabYZFxEPR/R5Vx8JEL6M+sS8f//NExAkR2TK4Ac9IANuMQAEChKtVIixcrQjAWc/pzI0KGvRRn+ZHnphqCYjDsIFBZEhTGyaUljueaNipxNsym3Fwmi0u66xRzZ+pKl6ALCaLRCCRBh6wpldN3YUehBz7//NExBQRgSK8AJYYcG6lJv3lx/KGopYmCGKfHo8csVmd45FyLGj5Q3PI+6x8xfar55o/oLgm0jR7hd1A8l/o38tQVzRmwgo9NtVhkF7G1NBjYPxxmIE5qAn5kf8pqX8s//NExCEQSR7AAH4YcFV+8piCW2oApD9s5ElQ/+dHSrMT85LyzqsP3BYWp//HVdb1QjE5yp7TT6htMbYpRGu1YekA4Qv3/GJRXHHJu2O8qY8oupSQrW2prH03wWKGrJ/h//NExDISqRKwAMYecPOWvVSxP5WS+JU662DQss7KnfZEcORR/KqIVL0jMDBN7yQ8IzEVWayMNSKcAnIWhgmyGAqkvNDN1AKKEnSeqCNCdukk5CYdnyaxdbA9vNW2dZg6//NExDoSqP6QAMPYcOlU2vXFxYW17KNiNn+hWFCNf+l7KBCobF+5dRzGYSCEEWUyYwGYwBTSE7miJ16mVPJxZ9hwzBANhBRQXPsfP36iekfesoev8puk9Zr9qoXV7z8+//NExEIRAOaQAMBGcGUpgG1nxmY8qll9yDEEjFBXKBASZVoyNv51BOgdS803R0zHBhzJgi1Tb0JnJ/xiIAa0o5FZpYqtmlmhVTHG4q56XWLX7P/2saHRnLSydjmX5GuH//NExFESqQacAMJGcKLbtxpYIxFo9igYquVrcI+cdd6DuTWa2KoB0KV/KyiRC8kZNt4ZgdEG7a1MijfXcXMDiUu0iwVMs1/19XB/5/0Vv4/gz8y8aYdTUaShgUIa4FsV//NExFkRmMqYANPecLqcWZa/gCKOW86nLHN6qQuBaJXVu0vMaONRi/XgUEUllTyNwHRt5zEsKwQfP///qOkNNb1IlOW5huo85ijT3WSeMzHIhov1AqJYYuTEtZaIMv8I//NExGURwNqgANvwcIqa3WG97LpiShKh6jyyTsWwQIvw3DhKZCbsZzuceA8qPA///rUlPUrjlbG8ILMCTUtwgkLEBiMaUM46IBsHDB1RnYXtFZDYWWucQrU1OfW0suuf//NExHER0PqsANJecKlTHamMdgJLB2EAGYNmzAGhwT4n1kWA+jf/qZAiW/nByv7qCTEBO07IAJcMUDuS8B1B6JLPJs2sOg2eoupUyfNWv622MbWYFM0pc5PXTQDy+Mpi//NExHwSWQqsANPYcEAe1sloFuaZd/9FQlEgVR8M1UqIw25hCcdchlvFAwIjHr3JE7rPIC85uGEgBz5ZLVdUrc06kuZWieqJXsTMSAssyggd/lVYlEYZhpkMVswyyFpt//NExIUQyQqoANSYcAT1R/pFWxiTtS+Wvqw2BTQRcE0sgBEyepLXb79vNT/+7jlzbRURUPQebMun5jpFhsec7////+SWLegqgVuMTBkoNCAR5i7hgUqHNy4ABC1gGNU8//NExJQewdZ4AN4WmIHUIEMVMCJKg5rLczE0wMbh0CETOKQxKz4tcSADOklnSRg79y2zKZdLsbla1ql7ayvH25rokliBE0jBcVBYTOD5LKtYhG/fvKqvkMzy3+C/m5Dh//NExGwgwYpkAOaSlMUaFjwdFyrWabP/+z+xzQqEARBIUfYQUEU/LyqmAQwkmfgwRBA1jF0CBOHAsYgBecVIEYfACLAmJCoYUwEnWFmc5kzMZB24N1MBA084osoBAb7R//NExDwgkYZkAO7SlFXiuOX4RON2uUM3R7ys2PrHdyBuKwiC66wiA3PEV/EjZdyRAevwhiU2M8IQpdHbwAARGbAYL2xc+XE+zV/2/1/31rK0NKoVluUfJFQBAOMFCMpN//NExAwVAX6IAN5KlHxSHFBRCPADbCCpyWjmGSjXJVUTybHym6pfipoKrmI8iBDs/uQ2t5wRh/43//fN+cXsNTOD0vz8hHYTK6I2d9GxkhBpHo6Kqv7VIUQY3pqhAPAU//NExAsVaYaYANZOlAmmzIhnxiI1wJQGMlTSiUmjBAXZWYUBmhNbuorixjE6ysj8Y9gycx7hf/7uH+VJvUg9Rw3LdufxSTsPtlT3nEGUcMyYSFoq1FNfWp3LFlRF/26y//NExAgTEXqoAM5GlYBUtLPNmCbYHygMFBuZqDSwery3ABUCgHsoStPAlWKUrvaXWztR233Vbn71z6p8JvIY8z/MvI/gslCwns0K0xhIt26JKse4JLk4VvBHYIflsuFQ//NExA4ViX6kAM5KlA9zVfUrMQdpIdQCGEu/Yjy1mSS+JF/kBkLf0cAE06axASm9/m34w/5N/xZsaOxo/T3zNmPUBRBkHGHIYa8o17B4wJXO991P9NWm3cKgac1DciZj//NExAoU2VKoAM4QlIk1epzGkimNABQDQIhQDJl/4XXhFiSzCdR9o+RolBIMKRHarU5TvxjnW3+oeV41+Uvhr/f2lOD6ckKn1JL1A+CrywLjm8l39H0Kvc6+o+yQdjoI//NExAkUoUasAMYecKjQKWkCohal7bsizZy/AReJelnCnVgl8qaUze7tdIWyTooFMWZc2eCss+rRolMTxPn2iUtvXz//90+dXrBiP7QgkNCUrBW0Bo6q3+cwLDhPbkBk//NExAkQsUqwAMPElOWUVY4vdglYQZwdGKvTBLhNmEdzhSCrX0SrCh0WRiYi9GQrG5QtzIEMWhimI0rt29t6q6xsU2qxVaKa5q6KRxi5MLLMGoMwhOLSS1KkZGYwhfE0//NExBkSaU6kAMvKlJnrCQVphUUyjVkz2KwudGJDmOArYh8l4ZHGgRHOxSqxEWWpl9ujoQzlE2FqvUiMFk2M52YeBC81CAHCWJLrQ2OgAd+KP1ER2mTiCSEHKdedXTsT//NExCIRQU6QANPElHqChqz7ZTrt5Ggp1DXOrE9qyFqUAbQGB/lbZS60ZyBQI3/pVJ1+F3mCBYciK5g4ADoGtI6Gp0AGDR86K+LqjvrBGRPM0vsnutfCK1/4I8c6vVAw//NExDAUUbJ4AOPOlPG+xDByRU2w6Ag26DukxueSVDiphZmu9///U0aXM03vYhV6XthpeIBTD7VkICkt4Dgs4C1AwS6du2k5rQNCdhkxK6bEKrv5X4vt1PFpeiQpu+7q//NExDESua54ANvOlNLaHIrjwVGrKp/29s9SpEitX///1LGWZXTSQFL1uvAYqdnxuyE8ugu1k5xNcNDsBZwDK5+1PwCKDcTnc6aR/hvCa324waoueIIRGc4xa4jmmCKD//NExDkScUJ0AN4QcJev+f7mm7IswGh9v/QFK7eifVq8yzIETo0ckQS5yoSoAniMJMcMyNTzlMy3V46cYlvJjeosLW+9YuQAglJcDvDOuXxrMWklif+f53/dt9dxCv/k//NExEIR+UJsANvMcFNruda4R0Pgg0maTCjcbTxJ27PYWqBAsyANshgoYr3BjVBokpJKnufzG8Y3KLuLjnFqzQUxKW9Ns4drbGU7JG4S1s9PEjwVGnv+R3nfJBXiBkkL//NExE0R+P5YANPMcFPAOYgojwioS0Wwl5tI5ZVSGn8NEZhuE2VriWe7TqUKEgOGzJaUOnQWLSQs9p5D5ph4Csd7Vf2fPf1XZarT+r+iAgZUMHGaEKCoccYVNgaCipAM//NExFgRcIIEAHvSSD6gpfWDrkKCuVg4mbBnEnDWGccS3rCb1DO6Yr0LU0VVhhPlUXhMvUVuym4y/s35XfW7yX2d/AEELGMSKChgQcQZMoYGDQcmVgoIE5GrLLSNZZcj//NExGUSAT3oABjGcVlmRtZcyZVjoZMoYFUcjVgoNHIyYKGBOhkahgoNHIyZQUHLBJWIssVoWhxroghcHC8SgAgoEACc+BAA48SHA+XPg+fWOBN/xOD5d4PnwQ8oGJcH//NExHARsbV8ABjGlc5Lv5Q4CBwQDQccIPUGKgQDEoCH1OygY+fyjlh8pQZwA+NYlJCXHbanY1dQo0FWxcQCAqAgJamFASmsAgEgwqkGAjDCj/y1XUKJgEBFqpBgIVW///NExHwAAANIAAAAAGPVfqqq8VVVeMcbXZqAijUmoUBKr9Vf2/9VZmbVVVmPL6rfw/Vj4zal8Y/h7H7MdarhhRsKEEOhpIBXJADCB6RE4KCDhA4IGgZCojDxoGRUUEho//NExM8RqFnoAHjGJBkVFhIaNCgsaAoqCwsLA4f//iwsLCwukBBIWFRUy7///6xXjxUVFRYkaFZMQU1FMy4xMDCqqqqqqqqqqqqqqqqqqqqqqqqqqqqqqqqqTEFNRTMu//NExNsaWxHkAHjGuTEwMKqqqqqqqqqqqqqqqqqqqqqqqqqqqqqqqqqqqqqqqqqqqqqqqqqqqqqqqqqqqqqqqqqqqqqqqqqqqqqqqqqqqqqqqqqqqqqqqqqqTEFNRTMu//NExMQSMEUcAGGEJDEwMKqqqqqqqqqqqqqqqqqqqqqqqqqqqqqqqqqqqqqqqqqqqqqqqqqqqqqqqqqqqqqqqqqqqqqqqqqqqqqqqqqqqqqqqqqqqqqqqqqqTEFNRTMu//NExKwAAANIAAAAADEwMKqqqqqqqqqqqqqqqqqqqqqqqqqqqqqqqqqqqqqqqqqqqqqqqqqqqqqqqqqqqqqqqqqqqqqqqqqqqqqqqqqqqqqqqqqqqqqqqqqqTEFNRTMu//NExKwAAANIAAAAADEwMKqqqqqqqqqqqqqqqqqqqqqqqqqqqqqqqqqqqqqqqqqqqqqqqqqqqqqqqqqqqqqqqqqqqqqqqqqqqqqqqqqqqqqqqqqqqqqqqqqqqqqqqqqq//NExKwAAANIAAAAAKqqqqqqqqqqqqqqqqqqqqqqqqqqqqqqqqqqqqqqqqqqqqqqqqqqqqqqqqqqqqqqqqqqqqqqqqqqqqqqqqqqqqqqqqqqqqqqqqqqqqqqqqqqqqqq//NExKwAAANIAAAAAKqqqqqqqqqqqqqqqqqqqqqqqqqqqqqqqqqqqqqqqqqqqqqqqqqqqqqqqqqqqqqqqqqqqqqqqqqqqqqqqqqqqqqqqqqqqqqqqqqqqqqqqqqqqqqq\" type=\"audio/x-wav\" />\n",
              "                    Your browser does not support the audio element.\n",
              "                </audio>\n",
              "              "
            ]
          },
          "metadata": {},
          "execution_count": 2
        }
      ]
    },
    {
      "cell_type": "markdown",
      "source": [
        "📗 [2] Korean text"
      ],
      "metadata": {
        "id": "QRrwJWl0VRC7"
      }
    },
    {
      "cell_type": "code",
      "source": [
        "#@markdown Type or past your text in the pop-up box\n",
        "mytext = input(\"Type or past your text here.\")\n",
        "print(\"=\"*50)\n",
        "print(\"Text: %s\"%mytext)\n",
        "print(\"=\"*50)\n",
        "ktts(mytext)"
      ],
      "metadata": {
        "colab": {
          "base_uri": "https://localhost:8080/",
          "height": 147
        },
        "cellView": "form",
        "id": "QeieGplSU_c2",
        "outputId": "2491fbcd-53ad-4303-83fd-6f49d2de085f"
      },
      "execution_count": null,
      "outputs": [
        {
          "output_type": "stream",
          "name": "stdout",
          "text": [
            "Type or past your text here.안녕하세요 여러분.\n",
            "==================================================\n",
            "Text: 안녕하세요 여러분.\n",
            "==================================================\n"
          ]
        },
        {
          "output_type": "execute_result",
          "data": {
            "text/plain": [
              "<IPython.lib.display.Audio object>"
            ],
            "text/html": [
              "\n",
              "                <audio  controls=\"controls\" >\n",
              "                    <source src=\"data:audio/x-wav;base64,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\" type=\"audio/x-wav\" />\n",
              "                    Your browser does not support the audio element.\n",
              "                </audio>\n",
              "              "
            ]
          },
          "metadata": {},
          "execution_count": 9
        }
      ]
    },
    {
      "cell_type": "markdown",
      "source": [
        "🔈 To play the sound saved: **Type the audio name (without .wav) in the pop-up box**"
      ],
      "metadata": {
        "id": "JaloYmwLWNqv"
      }
    },
    {
      "cell_type": "code",
      "source": [
        "#@markdown Play sound file:\n",
        "\n",
        "fname = input(\"Type the file name to play. (Don't type '.wav'\")\n",
        "mpath = '/content/'+fname + '.wav'\n",
        "Audio(mpath)"
      ],
      "metadata": {
        "colab": {
          "base_uri": "https://localhost:8080/",
          "height": 92
        },
        "cellView": "form",
        "id": "Fbq9oOkTUZ61",
        "outputId": "c8203919-762e-4649-d218-7b804fbbb068"
      },
      "execution_count": null,
      "outputs": [
        {
          "name": "stdout",
          "output_type": "stream",
          "text": [
            "Type the file name to play. (Don't type '.wav'K-audio\n"
          ]
        },
        {
          "output_type": "execute_result",
          "data": {
            "text/plain": [
              "<IPython.lib.display.Audio object>"
            ],
            "text/html": [
              "\n",
              "                <audio  controls=\"controls\" >\n",
              "                    <source src=\"data:audio/x-wav;base64,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\" type=\"audio/x-wav\" />\n",
              "                    Your browser does not support the audio element.\n",
              "                </audio>\n",
              "              "
            ]
          },
          "metadata": {},
          "execution_count": 34
        }
      ]
    }
  ]
}