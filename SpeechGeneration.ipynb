{
  "nbformat": 4,
  "nbformat_minor": 0,
  "metadata": {
    "colab": {
      "provenance": [],
      "authorship_tag": "ABX9TyP7YXIqXxkdbYOnV9l0Cn+1",
      "include_colab_link": true
    },
    "kernelspec": {
      "name": "python3",
      "display_name": "Python 3"
    },
    "language_info": {
      "name": "python"
    }
  },
  "cells": [
    {
      "cell_type": "markdown",
      "metadata": {
        "id": "view-in-github",
        "colab_type": "text"
      },
      "source": [
        "<a href=\"https://colab.research.google.com/github/MK316/Teachingapps/blob/main/SpeechGeneration.ipynb\" target=\"_parent\"><img src=\"https://colab.research.google.com/assets/colab-badge.svg\" alt=\"Open In Colab\"/></a>"
      ]
    },
    {
      "cell_type": "markdown",
      "source": [
        "# 💦 1. Speech Generation: English or Korean"
      ],
      "metadata": {
        "id": "580SZQBSbas3"
      }
    },
    {
      "cell_type": "code",
      "execution_count": 35,
      "metadata": {
        "cellView": "form",
        "id": "_IEZdYT8TWpG"
      },
      "outputs": [],
      "source": [
        "#@markdown Step #1:🚩 install {gTTS} packages and import:\n",
        "%%capture\n",
        "\n",
        "!pip install gTTS\n",
        "from gtts import gTTS\n",
        "from IPython.display import Audio\n",
        "import pandas as pd\n",
        "from google.colab import files\n",
        "     \n",
        "#@markdown Defining **etts(text)** and **ktts(text)**\n",
        "def etts(text):\n",
        "  text_to_say = text\n",
        "\n",
        "  gtts_object = gTTS(text = text_to_say, lang = \"en\", tld=\"com\", slow = False)\n",
        "  gtts_object.save(\"E-audio.wav\")\n",
        "  return Audio(\"E-audio.wav\")\n",
        "\n",
        "\n",
        "def ktts(text):\n",
        "  text_to_say = text\n",
        "\n",
        "  gtts_object = gTTS(text = text_to_say, lang = \"ko\", slow = False)\n",
        "  \n",
        "  gtts_object.save(\"K-audio.wav\")\n",
        "  return Audio(\"K-audio.wav\")"
      ]
    },
    {
      "cell_type": "markdown",
      "source": [
        "📗 [1] English speech\n",
        "\n",
        "**Note:** Any punctuation (comma, period) are mostly for written language, not usually for speech. If you use a comman, it'll makes a short pause, which may sound unnatural in some cases. So, consider not using a comma unless you really need a pause between clauses."
      ],
      "metadata": {
        "id": "PY2N6SqBUhyJ"
      }
    },
    {
      "cell_type": "code",
      "source": [
        "#@markdown Type or past your text in the pop-up box\n",
        "mytext = input(\"Type or past your text here.\")\n",
        "print(\"=\"*50)\n",
        "print(\"Text: %s\"%mytext)\n",
        "print(\"=\"*50)\n",
        "etts(mytext)"
      ],
      "metadata": {
        "colab": {
          "base_uri": "https://localhost:8080/",
          "height": 147
        },
        "cellView": "form",
        "id": "ok031Yl8UWVE",
        "outputId": "a84ba980-1aca-4c4b-cc6b-502d97145e43"
      },
      "execution_count": 36,
      "outputs": [
        {
          "output_type": "stream",
          "name": "stdout",
          "text": [
            "Type or past your text here.My name is Alisa.\n",
            "==================================================\n",
            "Text: My name is Alisa.\n",
            "==================================================\n"
          ]
        },
        {
          "output_type": "execute_result",
          "data": {
            "text/plain": [
              "<IPython.lib.display.Audio object>"
            ],
            "text/html": [
              "\n",
              "                <audio  controls=\"controls\" >\n",
              "                    <source src=\"data:audio/x-wav;base64,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\" type=\"audio/x-wav\" />\n",
              "                    Your browser does not support the audio element.\n",
              "                </audio>\n",
              "              "
            ]
          },
          "metadata": {},
          "execution_count": 36
        }
      ]
    },
    {
      "cell_type": "markdown",
      "source": [
        "📗 [2] Korean text"
      ],
      "metadata": {
        "id": "QRrwJWl0VRC7"
      }
    },
    {
      "cell_type": "code",
      "source": [
        "#@markdown Type or past your text in the pop-up box\n",
        "mytext = input(\"Type or past your text here.\")\n",
        "print(\"=\"*50)\n",
        "print(\"Text: %s\"%mytext)\n",
        "print(\"=\"*50)\n",
        "ktts(mytext)"
      ],
      "metadata": {
        "colab": {
          "base_uri": "https://localhost:8080/",
          "height": 147
        },
        "cellView": "form",
        "id": "QeieGplSU_c2",
        "outputId": "2491fbcd-53ad-4303-83fd-6f49d2de085f"
      },
      "execution_count": 9,
      "outputs": [
        {
          "output_type": "stream",
          "name": "stdout",
          "text": [
            "Type or past your text here.안녕하세요 여러분.\n",
            "==================================================\n",
            "Text: 안녕하세요 여러분.\n",
            "==================================================\n"
          ]
        },
        {
          "output_type": "execute_result",
          "data": {
            "text/plain": [
              "<IPython.lib.display.Audio object>"
            ],
            "text/html": [
              "\n",
              "                <audio  controls=\"controls\" >\n",
              "                    <source src=\"data:audio/x-wav;base64,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\" type=\"audio/x-wav\" />\n",
              "                    Your browser does not support the audio element.\n",
              "                </audio>\n",
              "              "
            ]
          },
          "metadata": {},
          "execution_count": 9
        }
      ]
    },
    {
      "cell_type": "markdown",
      "source": [
        "🔈 To play the sound saved: **Type the audio name (without .wav) in the pop-up box**"
      ],
      "metadata": {
        "id": "JaloYmwLWNqv"
      }
    },
    {
      "cell_type": "code",
      "source": [
        "#@markdown Play sound file:\n",
        "\n",
        "fname = input(\"Type the file name to play. (Don't type '.wav'\")\n",
        "mpath = '/content/'+fname + '.wav'\n",
        "Audio(mpath)"
      ],
      "metadata": {
        "colab": {
          "base_uri": "https://localhost:8080/",
          "height": 92
        },
        "cellView": "form",
        "id": "Fbq9oOkTUZ61",
        "outputId": "c8203919-762e-4649-d218-7b804fbbb068"
      },
      "execution_count": 34,
      "outputs": [
        {
          "name": "stdout",
          "output_type": "stream",
          "text": [
            "Type the file name to play. (Don't type '.wav'K-audio\n"
          ]
        },
        {
          "output_type": "execute_result",
          "data": {
            "text/plain": [
              "<IPython.lib.display.Audio object>"
            ],
            "text/html": [
              "\n",
              "                <audio  controls=\"controls\" >\n",
              "                    <source src=\"data:audio/x-wav;base64,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\" type=\"audio/x-wav\" />\n",
              "                    Your browser does not support the audio element.\n",
              "                </audio>\n",
              "              "
            ]
          },
          "metadata": {},
          "execution_count": 34
        }
      ]
    }
  ]
}