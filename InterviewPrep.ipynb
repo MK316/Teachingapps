{
  "nbformat": 4,
  "nbformat_minor": 0,
  "metadata": {
    "colab": {
      "provenance": [],
      "authorship_tag": "ABX9TyN70jGInKa0ErYHAgou+2jK",
      "include_colab_link": true
    },
    "kernelspec": {
      "name": "python3",
      "display_name": "Python 3"
    },
    "language_info": {
      "name": "python"
    }
  },
  "cells": [
    {
      "cell_type": "markdown",
      "metadata": {
        "id": "view-in-github",
        "colab_type": "text"
      },
      "source": [
        "<a href=\"https://colab.research.google.com/github/MK316/Teachingapps/blob/main/InterviewPrep.ipynb\" target=\"_parent\"><img src=\"https://colab.research.google.com/assets/colab-badge.svg\" alt=\"Open In Colab\"/></a>"
      ]
    },
    {
      "cell_type": "markdown",
      "source": [
        "# 💦 3. Interview Prep\n"
      ],
      "metadata": {
        "id": "580SZQBSbas3"
      }
    },
    {
      "cell_type": "code",
      "execution_count": null,
      "metadata": {
        "cellView": "form",
        "id": "_IEZdYT8TWpG"
      },
      "outputs": [],
      "source": [
        "#@markdown 🚩 install necessary packages:\n",
        "%%capture\n",
        "\n",
        "!pip install gTTS\n",
        "from gtts import gTTS\n",
        "from IPython.display import Audio\n",
        "import pandas as pd\n",
        "from google.colab import files\n",
        "     \n",
        "#@markdown  **tts(text)** is also ready to use\n",
        "def tts(text):\n",
        "  text_to_say = text\n",
        "\n",
        "  gtts_object = gTTS(text = text_to_say, lang = \"en\", tld=\"com\", slow = False)\n",
        "  gtts_object.save(\"myscript.wav\")\n",
        "  return Audio(\"myscript.wav\")"
      ]
    },
    {
      "cell_type": "markdown",
      "source": [
        "📗 [1] Previous Exam questions: A1 (구상문항 1 영어질문/답변) \n",
        "\n",
        "**Note:** 2022~2018\n",
        "* [CSV FIle]()"
      ],
      "metadata": {
        "id": "PY2N6SqBUhyJ"
      }
    },
    {
      "cell_type": "code",
      "source": [
        "url = \"\"\n",
        "df = pd.read_csv(url)"
      ],
      "metadata": {
        "id": "84NK7fLClKbd"
      },
      "execution_count": null,
      "outputs": []
    }
  ]
}