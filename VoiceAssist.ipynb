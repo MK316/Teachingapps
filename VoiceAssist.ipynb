{
  "nbformat": 4,
  "nbformat_minor": 0,
  "metadata": {
    "colab": {
      "provenance": [],
      "authorship_tag": "ABX9TyNTaBCNkaUESDSnaerGGw+6",
      "include_colab_link": true
    },
    "kernelspec": {
      "name": "python3",
      "display_name": "Python 3"
    },
    "language_info": {
      "name": "python"
    },
    "accelerator": "GPU",
    "gpuClass": "standard"
  },
  "cells": [
    {
      "cell_type": "markdown",
      "metadata": {
        "id": "view-in-github",
        "colab_type": "text"
      },
      "source": [
        "<a href=\"https://colab.research.google.com/github/MK316/Teachingapps/blob/main/VoiceAssist.ipynb\" target=\"_parent\"><img src=\"https://colab.research.google.com/assets/colab-badge.svg\" alt=\"Open In Colab\"/></a>"
      ]
    },
    {
      "cell_type": "markdown",
      "source": [
        "# Voice assistant using Whisper and chatGPT\n",
        "\n",
        "- Note: The video shows it's working but mine shows jason error in the final product\n",
        "\n",
        "[video source](https://www.youtube.com/watch?v=lBCoktYvSKg)"
      ],
      "metadata": {
        "id": "xdfEzUC08h8R"
      }
    },
    {
      "cell_type": "markdown",
      "source": [
        "* **!pip** This is a package manager for Python that is used to install and manage Python packages.\n",
        "* **-q** flag makes the installation process less verbose by suppressing all output messages except for errors and warnings."
      ],
      "metadata": {
        "id": "XBS-yayLAOxX"
      }
    },
    {
      "cell_type": "code",
      "execution_count": 36,
      "metadata": {
        "colab": {
          "base_uri": "https://localhost:8080/"
        },
        "id": "TQEZ_cf08fQ9",
        "outputId": "fa36ef81-8623-45fe-ac3b-52283910f1f8"
      },
      "outputs": [
        {
          "output_type": "stream",
          "name": "stdout",
          "text": [
            "  Installing build dependencies ... \u001b[?25l\u001b[?25hdone\n",
            "  Getting requirements to build wheel ... \u001b[?25l\u001b[?25hdone\n",
            "  Preparing metadata (pyproject.toml) ... \u001b[?25l\u001b[?25hdone\n"
          ]
        }
      ],
      "source": [
        "!pip install -q git+https://github.com/openai/whisper.git\n",
        "!pip install -q gradio\n",
        "!pip install -q pyChatGPT"
      ]
    },
    {
      "cell_type": "markdown",
      "source": [
        "Import libraries"
      ],
      "metadata": {
        "id": "VR8nQlCQAxdc"
      }
    },
    {
      "cell_type": "code",
      "source": [
        "import whisper\n",
        "import gradio as gr \n",
        "import time\n",
        "from pyChatGPT import ChatGPT\n",
        "import warnings\n",
        "from IPython.display import Image, Audio, display"
      ],
      "metadata": {
        "id": "Hu2Vrx0iAiXq"
      },
      "execution_count": 37,
      "outputs": []
    },
    {
      "cell_type": "markdown",
      "source": [
        "Setting up variables"
      ],
      "metadata": {
        "id": "yXo9hVByA7HB"
      }
    },
    {
      "cell_type": "code",
      "source": [
        "warnings.filterwarnings(\"ignore\")"
      ],
      "metadata": {
        "id": "CgnJLbQkA6lb"
      },
      "execution_count": 38,
      "outputs": []
    },
    {
      "cell_type": "markdown",
      "source": [
        "Getting chatGPT api secret token:\n",
        "\n",
        "1. Visit [chatGPT](https://chat.openai.com/chat)\n",
        "2. Right click > Inspect\n",
        "3. Find Cookies on the left panel > chat.openai.com\n",
        "4. Secure-next-auth.session... > Copy \"Value\""
      ],
      "metadata": {
        "id": "-v3PaMzMB71N"
      }
    },
    {
      "cell_type": "code",
      "source": [
        "#@markdown Show image of session token\n",
        "url = \"https://github.com/MK316/Spring2023/raw/main/DL/data/gpt_tokens.png\"\n",
        "Image(url, width = 800, height = 600)"
      ],
      "metadata": {
        "cellView": "form",
        "id": "d51ylEcpDRdA"
      },
      "execution_count": null,
      "outputs": []
    },
    {
      "cell_type": "code",
      "source": [
        "secret_token = \"eyJhbGciOiJkaXIiLCJlbmMiOiJBMjU2R0NNIn0..6CjsG9INSlsYDNo-.ibRnYZx4l17M-o4ZTvqkSqHvU9PU6W9PNNVL6rcx3l5DiNl7eCt8GHaBu2gPWTiS3-iRU1FUjTTzJ43Bqhw0BGaE640A2g2dTOl9k3F--zashm9AZEap_dBtnokHZJEUzCL5OrWXNo8SgiZXRdrP5hLHqYJEk5FKPjhrF2wRrDltyj4nGJZ0JayRhNxm4KvQmwLgMIpnTGMvpXZNDa__8MMKu7NUTfzvmQjd7OpGbhSOZf0X9Ba9tDXa1F7uLvJXzI5cYCXFfGSBPJjlE53n5mMtCLOGXhYNoedepV3NdjsNHpUBf68gcdafHA0bqxri08PCHqarFwQGK6AkHayC6Mvr86sj6Kt_iGUKOZzO2FuH3Um0XZ5wF1MdNVG5TbHb_YE-9UL3s60RynkgwN-1aLoKXeOG2mU71MJUp-H5Q8rnlLoiI4kmutC8nzY6nEP-f7j1eU1zqBOdxp5W7Skm9PjQSXdusAlqyCHFSYvM2RuROznwEdAwvngml5m1PwzMgaHTsf15f9FzEyQtEDtMs5svKpaiBWgIYXyIThdpkDtiyYD0jMXhEbunVwi9JUvxkEeJRUvWw74i2wlen6CuDyMEI-nasIODhPNBSATCL6MvT2a0Cqjb86OVCPugXgvmkT9QgryES_R3A0dKeJzoXhZFLDFf6-BL786h9TjgOipH4oMYdXtyHPHZcXAf3RvI6Yh0aZksrCfriNi6bGiqpqW9Ji1-7hiP8v7ywuhsqPGVMZdPXrmnjHT_USd1Sf7Zh3JtLaj8fFyEl8F7pUX-_KAb9CZ1YdRp5rK7RKT5Kh_NKXlSYQgP0eh9k90ntk_Nyc-GQSaauG6ePAodbRTlqEOZD5Ly68Q8c4iETvCxacvuaPWclTJhuXlEtOAj5rngue6JIcHU_C97LVpSraY1TjXwusB7NKucRtvegORa6GegodA4iBjgV5ndamMDVb4b1ORQyD2DQHHerMByS296qYY8avNddLRpI4KoIUkSE966R2je7aZTQyvPyiqeCjF7Uigfq7zZBvTgGomfuu1NBO1-iInHmYt_LDm6HUVHjMDKEHikV1irjQA7ajy3ZhlrKoWD-pcwfpX27aJEvZORVOWDNBHZIgyCMQIP57hWsNdM64Pw1-Tl4wQ2zWGOG4-Z92vz8b-13xDKydlEOoaAN_VWU7PVJpRHuCdDy9yZuSkueRU5TVItE4BBZdiU98D4HrxZ0l-r1MHmVyyHTAhFSzDUiOZ58uHAwPSH1ryOSDPVF7z5upbe9H8YTu2IhWrdSopwISKPCd7xJvIiOiYsv4f0VhjrZqbKPrw9OL2nsPJVR9jmQRhGVbAMyTifyHM97IT4qVMvmdSJFLOBEh1O6soKkgvmBgUhK4Ov9CEZurQOrCIBMvx4O5y6snRKFj63uRPjhIHQR5HshIc8bThK23KctHvs2QJy6_l0cP5ZHlmmDTpk3iKtVOaMSt6uRCPQZnWXbaw9tQc7QW8GN8H_1fkDXirb638E9bPRNTGuORGv7Enek5ZNCikokcBGKoEy90HIjnXPX0ntb9ArtAjhhvHugXA1dwgPIV2682nORUeQ0o2_2rCjbBVwRD3AEU-pxJIpKRwZIhkJFyFEqaIqKwVMd2WMMIn3jVGKbY2XoUHQ8qCETpj23umYR7Q8pvfx5Jj8KFJopoVLoN9TYdpm21GTTnww3-iZw6BfE7hRgUQDeLJXC9iELVrcVh6R0ihGiesvnpszJ4BNY6Q4JE1EBvEjAVO4pKylRTpNopim9XTPlgRcg5xQBq30SLfAwrKWrSOtGoczZEuvUe7J3W1ZAx62ue6Ra5ghZJkV5BkoVBDYJuWesXUrKrKHE0oorzt7XIVZvENgLTWTZY_smItsHxxlGbLcUekHmPAIuRNjeCSc9nnKbk1XINkH4T8mAjaUJr2JiaR44rdn00iP4cxRWlq6JCvHNG6zozXO0g3bsKd5z0BqnfndL8KCFkVBHla36n8fhhxfZtu5G6llRYrmrrxLn23u7pXS4uOLGRrgH65n6wmDGZGlDzNx5pevCasfzY__JDVD37a0YbBKhwJLzhA4H6nrXZ1DvXaNMnJrR8cu9JNUqtrZnJYP7Ee39FQDmfUxCZDBBH7ZbVt2d2aNRpN5TdqKLENNfaG9Vk_P5UMEoIuZm6smiCXrvxmiN2YHk1UyB4q0sB6AjCe-LOrL2fXSv0x4k-BBFjFwo73IVzN7Sdaa5KPagFkup66dfL9Qju9dDMFG7I-E8SkL6Uav413gpB8F3nDGcBY3TdCbnAVm23XujUTpyCIbXd18aoi1ATaBa_cGKgyJFC5qObvuF8PAmjrk0SST2lih-JjNEdW3RmuckEFwYGjSrA3i0uhme1vZADjYcQcQ9IGA8AwJ7QVKibWlvCh-PZpO9UWpggUjq4prCnirKleyrJx2aKoQUmQILwW8JlWKlqv4CLbA7KmHNeSy_R1AHE-Y_BbAKRRdMdvxjDEhwm5bRWX3so0Hmn7mdBUylSeCxeBBuH7h30c1Rm6c2jPT_1aZLOphEML20Mhq8Ld_sDUsAkEYKcdvGTngiBhB_F32qX64YJfL_tCWyhxCAQx93fdinq3t54qAvJpzC64apHfSns7TSETH9lJWcZ9bDGzSbtemokzlhgoZxAQrTX4Z0X-1ag.qRtN2JrUW2-JGs738wfQag\""
      ],
      "metadata": {
        "id": "CrsIY1GOC4zT"
      },
      "execution_count": 39,
      "outputs": []
    },
    {
      "cell_type": "code",
      "source": [
        "model = whisper.load_model(\"base\")"
      ],
      "metadata": {
        "id": "9lO6ePVTD0f2"
      },
      "execution_count": 40,
      "outputs": []
    },
    {
      "cell_type": "code",
      "source": [
        "model.device"
      ],
      "metadata": {
        "colab": {
          "base_uri": "https://localhost:8080/"
        },
        "id": "hDppoHrLD31x",
        "outputId": "d4104397-2ca1-4a36-b084-99b9b9b22930"
      },
      "execution_count": 41,
      "outputs": [
        {
          "output_type": "execute_result",
          "data": {
            "text/plain": [
              "device(type='cuda', index=0)"
            ]
          },
          "metadata": {},
          "execution_count": 41
        }
      ]
    },
    {
      "cell_type": "code",
      "source": [
        "def transcribe(audio):\n",
        "\n",
        "    # load audio and pad/trim it to fit 30 seconds\n",
        "    audio = whisper.load_audio(audio)\n",
        "    audio = whisper.pad_or_trim(audio)\n",
        "\n",
        "    # make log-Mel spectrogram and move to the same device as the model\n",
        "    mel = whisper.log_mel_spectrogram(audio).to(model.device)\n",
        "\n",
        "    # detect the spoken language\n",
        "    _, probs = model.detect_language(mel)\n",
        "\n",
        "    # decode the audio\n",
        "    options = whisper.DecodingOptions()\n",
        "    result = whisper.decode(model, mel, options)\n",
        "    result_text = result.text\n",
        "\n",
        "    # Pass the generated text to Audio\n",
        "    chatgpt_api = ChatGPT(secret_token)\n",
        "    resp = chatgpt_api.send_message(result_text)\n",
        "    out_result = resp['message']\n",
        "\n",
        "    return [result_text, out_result]"
      ],
      "metadata": {
        "id": "qJ4iT3_nD_gE"
      },
      "execution_count": 42,
      "outputs": []
    },
    {
      "cell_type": "code",
      "source": [
        "!pip install gtts\n",
        "from gtts import gTTS\n",
        "from IPython.display import Audio"
      ],
      "metadata": {
        "colab": {
          "base_uri": "https://localhost:8080/"
        },
        "id": "rHp98yDFNMBc",
        "outputId": "8d66772d-0230-4611-c807-b249c68cea5c"
      },
      "execution_count": 44,
      "outputs": [
        {
          "output_type": "stream",
          "name": "stdout",
          "text": [
            "Looking in indexes: https://pypi.org/simple, https://us-python.pkg.dev/colab-wheels/public/simple/\n",
            "Collecting gtts\n",
            "  Downloading gTTS-2.3.1-py3-none-any.whl (28 kB)\n",
            "Requirement already satisfied: requests<3,>=2.27 in /usr/local/lib/python3.9/dist-packages (from gtts) (2.27.1)\n",
            "Requirement already satisfied: click<8.2,>=7.1 in /usr/local/lib/python3.9/dist-packages (from gtts) (8.1.3)\n",
            "Requirement already satisfied: certifi>=2017.4.17 in /usr/local/lib/python3.9/dist-packages (from requests<3,>=2.27->gtts) (2022.12.7)\n",
            "Requirement already satisfied: charset-normalizer~=2.0.0 in /usr/local/lib/python3.9/dist-packages (from requests<3,>=2.27->gtts) (2.0.12)\n",
            "Requirement already satisfied: urllib3<1.27,>=1.21.1 in /usr/local/lib/python3.9/dist-packages (from requests<3,>=2.27->gtts) (1.26.15)\n",
            "Requirement already satisfied: idna<4,>=2.5 in /usr/local/lib/python3.9/dist-packages (from requests<3,>=2.27->gtts) (3.4)\n",
            "Installing collected packages: gtts\n",
            "Successfully installed gtts-2.3.1\n"
          ]
        }
      ]
    },
    {
      "cell_type": "code",
      "source": [
        "output_1 = gr.Textbox(label=\"Speech to Text\")\n",
        "output_2 = gr.Textbox(label=\"ChatGPT Output\")\n",
        "\n",
        "\n",
        "gr.Interface(\n",
        "    title = 'OpenAI Whisper and ChatGPT ASR Gradio Web UI', \n",
        "    fn=transcribe, \n",
        "    inputs=[\n",
        "        gr.inputs.Audio(source=\"microphone\", type=\"filepath\")\n",
        "    ],\n",
        "\n",
        "    outputs=[\n",
        "        output_1,  output_2\n",
        "    ],\n",
        "    live=True).launch()"
      ],
      "metadata": {
        "colab": {
          "base_uri": "https://localhost:8080/",
          "height": 618
        },
        "id": "RZa74mqMJLMZ",
        "outputId": "f5203551-10ac-407e-db4a-f9160b28b024"
      },
      "execution_count": 63,
      "outputs": [
        {
          "output_type": "stream",
          "name": "stdout",
          "text": [
            "Colab notebook detected. To show errors in colab notebook, set debug=True in launch()\n",
            "Note: opening Chrome Inspector may crash demo inside Colab notebooks.\n",
            "\n",
            "To create a public link, set `share=True` in `launch()`.\n"
          ]
        },
        {
          "output_type": "display_data",
          "data": {
            "text/plain": [
              "<IPython.core.display.Javascript object>"
            ],
            "application/javascript": [
              "(async (port, path, width, height, cache, element) => {\n",
              "                        if (!google.colab.kernel.accessAllowed && !cache) {\n",
              "                            return;\n",
              "                        }\n",
              "                        element.appendChild(document.createTextNode(''));\n",
              "                        const url = await google.colab.kernel.proxyPort(port, {cache});\n",
              "\n",
              "                        const external_link = document.createElement('div');\n",
              "                        external_link.innerHTML = `\n",
              "                            <div style=\"font-family: monospace; margin-bottom: 0.5rem\">\n",
              "                                Running on <a href=${new URL(path, url).toString()} target=\"_blank\">\n",
              "                                    https://localhost:${port}${path}\n",
              "                                </a>\n",
              "                            </div>\n",
              "                        `;\n",
              "                        element.appendChild(external_link);\n",
              "\n",
              "                        const iframe = document.createElement('iframe');\n",
              "                        iframe.src = new URL(path, url).toString();\n",
              "                        iframe.height = height;\n",
              "                        iframe.allow = \"autoplay; camera; microphone; clipboard-read; clipboard-write;\"\n",
              "                        iframe.width = width;\n",
              "                        iframe.style.border = 0;\n",
              "                        element.appendChild(iframe);\n",
              "                    })(7867, \"/\", \"100%\", 500, false, window.element)"
            ]
          },
          "metadata": {}
        },
        {
          "output_type": "execute_result",
          "data": {
            "text/plain": []
          },
          "metadata": {},
          "execution_count": 63
        }
      ]
    },
    {
      "cell_type": "markdown",
      "source": [
        "Gradio"
      ],
      "metadata": {
        "id": "GdtKjyKxFakN"
      }
    },
    {
      "cell_type": "code",
      "source": [
        "output_1 = gr.Textbox(label=\"Speech to Text\")\n",
        "output_2 = gr.Textbox(label=\"ChatGPT Output\")\n",
        "\n",
        "gr.Interface(\n",
        "    title = \"OpenAI Whisper and ChatGPT ASR Gradio Web UI\",\n",
        "    fn=transcribe,\n",
        "    inputs = [\n",
        "        gr.inputs.Audio(source=\"microphone\", type = \"filepath\")\n",
        "    ],\n",
        "\n",
        "    outputs = [\n",
        "        output_1, output_2\n",
        "    ],\n",
        "    live=True).launch()"
      ],
      "metadata": {
        "colab": {
          "base_uri": "https://localhost:8080/",
          "height": 618
        },
        "id": "tNd-R8gmFGKS",
        "outputId": "94c78f7d-2813-408d-9ec0-b73124627b34"
      },
      "execution_count": 25,
      "outputs": [
        {
          "output_type": "stream",
          "name": "stdout",
          "text": [
            "Colab notebook detected. To show errors in colab notebook, set debug=True in launch()\n",
            "Note: opening Chrome Inspector may crash demo inside Colab notebooks.\n",
            "\n",
            "To create a public link, set `share=True` in `launch()`.\n"
          ]
        },
        {
          "output_type": "display_data",
          "data": {
            "text/plain": [
              "<IPython.core.display.Javascript object>"
            ],
            "application/javascript": [
              "(async (port, path, width, height, cache, element) => {\n",
              "                        if (!google.colab.kernel.accessAllowed && !cache) {\n",
              "                            return;\n",
              "                        }\n",
              "                        element.appendChild(document.createTextNode(''));\n",
              "                        const url = await google.colab.kernel.proxyPort(port, {cache});\n",
              "\n",
              "                        const external_link = document.createElement('div');\n",
              "                        external_link.innerHTML = `\n",
              "                            <div style=\"font-family: monospace; margin-bottom: 0.5rem\">\n",
              "                                Running on <a href=${new URL(path, url).toString()} target=\"_blank\">\n",
              "                                    https://localhost:${port}${path}\n",
              "                                </a>\n",
              "                            </div>\n",
              "                        `;\n",
              "                        element.appendChild(external_link);\n",
              "\n",
              "                        const iframe = document.createElement('iframe');\n",
              "                        iframe.src = new URL(path, url).toString();\n",
              "                        iframe.height = height;\n",
              "                        iframe.allow = \"autoplay; camera; microphone; clipboard-read; clipboard-write;\"\n",
              "                        iframe.width = width;\n",
              "                        iframe.style.border = 0;\n",
              "                        element.appendChild(iframe);\n",
              "                    })(7863, \"/\", \"100%\", 500, false, window.element)"
            ]
          },
          "metadata": {}
        },
        {
          "output_type": "execute_result",
          "data": {
            "text/plain": []
          },
          "metadata": {},
          "execution_count": 25
        }
      ]
    },
    {
      "cell_type": "code",
      "source": [
        "resp = chatgpt_api.send_message(result_text)\n",
        "print(resp)"
      ],
      "metadata": {
        "colab": {
          "base_uri": "https://localhost:8080/",
          "height": 187
        },
        "id": "xKnFbDowKNdn",
        "outputId": "19349a62-41e4-40aa-d107-33089eb9ebf1"
      },
      "execution_count": 26,
      "outputs": [
        {
          "output_type": "error",
          "ename": "NameError",
          "evalue": "ignored",
          "traceback": [
            "\u001b[0;31m---------------------------------------------------------------------------\u001b[0m",
            "\u001b[0;31mNameError\u001b[0m                                 Traceback (most recent call last)",
            "\u001b[0;32m<ipython-input-26-04af811fb118>\u001b[0m in \u001b[0;36m<module>\u001b[0;34m\u001b[0m\n\u001b[0;32m----> 1\u001b[0;31m \u001b[0mresp\u001b[0m \u001b[0;34m=\u001b[0m \u001b[0mchatgpt_api\u001b[0m\u001b[0;34m.\u001b[0m\u001b[0msend_message\u001b[0m\u001b[0;34m(\u001b[0m\u001b[0mresult_text\u001b[0m\u001b[0;34m)\u001b[0m\u001b[0;34m\u001b[0m\u001b[0;34m\u001b[0m\u001b[0m\n\u001b[0m\u001b[1;32m      2\u001b[0m \u001b[0mprint\u001b[0m\u001b[0;34m(\u001b[0m\u001b[0mresp\u001b[0m\u001b[0;34m)\u001b[0m\u001b[0;34m\u001b[0m\u001b[0;34m\u001b[0m\u001b[0m\n",
            "\u001b[0;31mNameError\u001b[0m: name 'chatgpt_api' is not defined"
          ]
        }
      ]
    }
  ]
}